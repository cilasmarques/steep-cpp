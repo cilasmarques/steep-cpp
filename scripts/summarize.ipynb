{
 "cells": [
  {
   "cell_type": "code",
   "execution_count": 7,
   "metadata": {},
   "outputs": [],
   "source": [
    "import pandas as pd\n",
    "from pathlib import Path"
   ]
  },
  {
   "cell_type": "code",
   "execution_count": 8,
   "metadata": {},
   "outputs": [],
   "source": [
    "RESULT_DIR = Path('../results')\n",
    "execution=\"GPU\""
   ]
  },
  {
   "cell_type": "code",
   "execution_count": 9,
   "metadata": {},
   "outputs": [],
   "source": [
    "# Metrics functions\n",
    "def get_min_max_mean(df, column, start_time, end_time):\n",
    "    df_i = df[(df['TIMESTAMP'] >= start_time) & (df['TIMESTAMP'] <= end_time)]\n",
    "    min_value = df_i[column].min()\n",
    "    max_value = df_i[column].max()\n",
    "    mean_value = df_i[column].mean()    \n",
    "    return min_value, max_value, mean_value\n",
    "  \n",
    "def add_min_max_mean_columns(df, column, index, min_value, max_value, mean_value):\n",
    "    df.loc[index, f'{column}_MIN'] = min_value\n",
    "    df.loc[index, f'{column}_MAX'] = max_value\n",
    "    df.loc[index, f'{column}_MEAN'] = mean_value\n",
    "\n",
    "def sumarise_df_cpu(df_cpu, df_mem_cpu, df_timestamp):\n",
    "    df_cpu['TIMESTAMP'] = df_cpu['TIMESTAMP'].astype(int)\n",
    "    df_mem_cpu['TIMESTAMP'] = df_mem_cpu['TIMESTAMP'].astype(int)\n",
    "    df_timestamp['START_TIME'] = df_timestamp['START_TIME'].astype(str).str[:10].astype(int)\n",
    "    df_timestamp['END_TIME'] = df_timestamp['END_TIME'].astype(str).str[:10].astype(int)\n",
    "  \n",
    "    for i, r in df_timestamp.iterrows():\n",
    "        start_time = r['START_TIME']\n",
    "        end_time = r['END_TIME']\n",
    "        \n",
    "        min_value, max_value, mean_value = get_min_max_mean(df_cpu, ' CPU', start_time, end_time)\n",
    "        add_min_max_mean_columns(df_timestamp, 'CPU', i, min_value, max_value, mean_value)\n",
    "        \n",
    "        min_value, max_value, mean_value = get_min_max_mean(df_mem_cpu, ' USED', start_time, end_time)\n",
    "        add_min_max_mean_columns(df_timestamp, 'MEM_CPU', i, min_value, max_value, mean_value)\n",
    "                \n",
    "    return df_timestamp\n",
    "  \n",
    "def sumarise_df_gpu(df_cpu, df_mem_cpu, df_gpu, df_mem_gpu, df_timestamp):\n",
    "    df_cpu['TIMESTAMP'] = df_cpu['TIMESTAMP'].astype(int)\n",
    "    df_mem_cpu['TIMESTAMP'] = df_mem_cpu['TIMESTAMP'].astype(int)\n",
    "    df_gpu['TIMESTAMP'] = df_gpu['TIMESTAMP'].astype(int)\n",
    "    df_mem_gpu['TIMESTAMP'] = df_mem_gpu['TIMESTAMP'].astype(int)\n",
    "    df_timestamp['START_TIME'] = df_timestamp['START_TIME'].astype(str).str[:10].astype(int)\n",
    "    df_timestamp['END_TIME'] = df_timestamp['END_TIME'].astype(str).str[:10].astype(int)\n",
    "\n",
    "    for i, r in df_timestamp.iterrows():\n",
    "        start_time = r['START_TIME']\n",
    "        end_time = r['END_TIME']\n",
    "        \n",
    "        min_value, max_value, mean_value = get_min_max_mean(df_cpu, ' CPU', start_time, end_time)\n",
    "        add_min_max_mean_columns(df_timestamp, 'CPU', i, min_value, max_value, mean_value)\n",
    "        \n",
    "        min_value, max_value, mean_value = get_min_max_mean(df_mem_cpu, ' USED', start_time, end_time)\n",
    "        add_min_max_mean_columns(df_timestamp, 'MEM_CPU', i, min_value, max_value, mean_value)\n",
    "\n",
    "        min_value, max_value, mean_value = get_min_max_mean(df_gpu, ' GPU', start_time, end_time)\n",
    "        add_min_max_mean_columns(df_timestamp, 'GPU', i, min_value, max_value, mean_value)\n",
    "        \n",
    "        min_value, max_value, mean_value = get_min_max_mean(df_mem_gpu, ' USED', start_time, end_time)\n",
    "        add_min_max_mean_columns(df_timestamp, 'MEM_GPU', i, min_value, max_value, mean_value)\n",
    "        \n",
    "    return df_timestamp\n"
   ]
  },
  {
   "cell_type": "code",
   "execution_count": 11,
   "metadata": {},
   "outputs": [],
   "source": [
    "for dir_path in RESULT_DIR.rglob('**/experiment*'):\n",
    "    try:\n",
    "        df_timestamp = pd.read_csv(f'{dir_path}/timestamp.csv')\n",
    "\n",
    "        if execution == \"CPU\":\n",
    "            df_cpu = pd.read_csv(f'{dir_path}/cpu.csv')\n",
    "            df_mem_cpu = pd.read_csv(f'{dir_path}/mem.csv')\n",
    "            df_timestamp = sumarise_df_cpu(df_cpu, df_mem_cpu, df_timestamp)\n",
    "\n",
    "        if execution == \"GPU\":\n",
    "            df_cpu = pd.read_csv(f'{dir_path}/cpu.csv')\n",
    "            df_mem_cpu = pd.read_csv(f'{dir_path}/mem.csv')\n",
    "            df_gpu = pd.read_csv(f'{dir_path}/gpu.csv')\n",
    "            df_mem_gpu = pd.read_csv(f'{dir_path}/mem-gpu.csv')\n",
    "            df_mem_gpu[df_mem_gpu[' COMMAND'].str.contains('/src/main')]\n",
    "            df_timestamp = sumarise_df_gpu(df_cpu, df_mem_cpu, df_gpu, df_mem_gpu, df_timestamp)\n",
    "\n",
    "        df_timestamp.to_csv(f'{dir_path}/timestamp.csv', index=False)\n",
    "\n",
    "    except Exception as e:\n",
    "        print(f\"Error on {dir}\", e)\n",
    "        pass\n"
   ]
  },
  {
   "cell_type": "code",
   "execution_count": 12,
   "metadata": {},
   "outputs": [],
   "source": [
    "df = pd.DataFrame()\n",
    "for timestamp_file_path in RESULT_DIR.rglob('**/timestamp.csv'):\n",
    "    try:\n",
    "        df_timestamp = pd.read_csv(timestamp_file_path)\n",
    "        df_timestamp.insert(0, 'directory', timestamp_file_path)\n",
    "        df = pd.concat([df, df_timestamp], axis=0)\n",
    "    except Exception as e:\n",
    "        print(f\"Error on {dir}\", e)\n",
    "        pass\n",
    "\n",
    "df.sort_values(by=['directory'], inplace=True)\n",
    "df.reset_index(drop=True, inplace=True)\n",
    "df.to_csv(f'{RESULT_DIR}/timestamp.csv', index=False)"
   ]
  }
 ],
 "metadata": {
  "kernelspec": {
   "display_name": "main",
   "language": "python",
   "name": "python3"
  },
  "language_info": {
   "codemirror_mode": {
    "name": "ipython",
    "version": 3
   },
   "file_extension": ".py",
   "mimetype": "text/x-python",
   "name": "python",
   "nbconvert_exporter": "python",
   "pygments_lexer": "ipython3",
   "version": "3.10.12"
  },
  "orig_nbformat": 4
 },
 "nbformat": 4,
 "nbformat_minor": 2
}
